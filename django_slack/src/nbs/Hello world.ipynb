{
 "cells": [
  {
   "cell_type": "code",
   "execution_count": 5,
   "id": "83ea52fd-4da6-4102-be62-59cc7ba3f7b5",
   "metadata": {},
   "outputs": [],
   "source": [
    "import setup"
   ]
  },
  {
   "cell_type": "code",
   "execution_count": 6,
   "id": "65756677-2f9f-4159-b8ec-31fcafc17016",
   "metadata": {},
   "outputs": [
    {
     "name": "stdout",
     "output_type": "stream",
     "text": [
      "/Users/apple/Documents/Work/Projects/django_training/django_slack/src/nbs\n"
     ]
    }
   ],
   "source": [
    "!pwd"
   ]
  },
  {
   "cell_type": "code",
   "execution_count": 7,
   "id": "3fd3fbb9-d3a7-42be-a3ac-91aee366ed3b",
   "metadata": {},
   "outputs": [],
   "source": [
    "setup.init_django()"
   ]
  },
  {
   "cell_type": "code",
   "execution_count": 8,
   "id": "f297bff5-640f-44b8-a333-83c1871fcdee",
   "metadata": {},
   "outputs": [
    {
     "name": "stdout",
     "output_type": "stream",
     "text": [
      "/Users/apple/Documents/Work/Projects/django_training/django_slack/src\n"
     ]
    }
   ],
   "source": [
    "!pwd"
   ]
  },
  {
   "cell_type": "code",
   "execution_count": 9,
   "id": "121a7c02-02ce-4952-999b-203415841166",
   "metadata": {},
   "outputs": [],
   "source": [
    "setup.init_django()"
   ]
  },
  {
   "cell_type": "code",
   "execution_count": 11,
   "id": "b19bc2d7-51cb-4534-be29-f026b2424491",
   "metadata": {},
   "outputs": [],
   "source": [
    "from django.conf import settings"
   ]
  },
  {
   "cell_type": "code",
   "execution_count": 12,
   "id": "888957ca-ec68-4912-b879-4d7e7e0a0ee2",
   "metadata": {},
   "outputs": [
    {
     "data": {
      "text/plain": [
       "PosixPath('/Users/apple/Documents/Work/Projects/django_training/django_slack/src')"
      ]
     },
     "execution_count": 12,
     "metadata": {},
     "output_type": "execute_result"
    }
   ],
   "source": [
    "settings.BASE_DIR"
   ]
  },
  {
   "cell_type": "code",
   "execution_count": null,
   "id": "711676ef-03b1-4ce3-9c9f-1b9447a630c5",
   "metadata": {},
   "outputs": [],
   "source": []
  }
 ],
 "metadata": {
  "kernelspec": {
   "display_name": "Python 3 (ipykernel)",
   "language": "python",
   "name": "python3"
  },
  "language_info": {
   "codemirror_mode": {
    "name": "ipython",
    "version": 3
   },
   "file_extension": ".py",
   "mimetype": "text/x-python",
   "name": "python",
   "nbconvert_exporter": "python",
   "pygments_lexer": "ipython3",
   "version": "3.12.7"
  }
 },
 "nbformat": 4,
 "nbformat_minor": 5
}
